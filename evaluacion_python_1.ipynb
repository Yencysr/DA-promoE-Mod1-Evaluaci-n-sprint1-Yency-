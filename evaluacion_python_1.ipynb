{
 "cells": [
  {
   "attachments": {},
   "cell_type": "markdown",
   "metadata": {},
   "source": [
    "**Métodos de *strings***\n",
    "\n",
    "Dado el siguiente *string* \n",
    "\n",
    "```python\n",
    "\n",
    "string = \"\"\"Hoy estamos en una clase de repaso,\n",
    "el objetivo es intentar solucionar todas vuestras dudas, \n",
    "preguntad todo lo que queráis! \n",
    "\"\"\"\n",
    "```\n",
    "\n",
    "\n",
    "Contesta a las siguientes preguntas: \n",
    "\n",
    "1️⃣ Crea dos variables nuevas: \n",
    "    - Una con el *string* en mayúsculas\n",
    "    - Otra con las letras en minúsculas\n",
    "\n",
    "2️⃣ Pon todas las primeras letras del *string* en mayúscula\n",
    "\n",
    "3️⃣ Separa el *string*  por los espacios y almacena el resultado en una lista llamanda `texto_lista`\n",
    "\n",
    "4️⃣ De la lista obtenida en el ejercicio anterior, selecciona solo los 5 primero elementos y almacena los resultados en una variable que se llame `texto_lista_corta` \n",
    "\n",
    "5️⃣ De la lista obtenida en el ejercicio 5. Vuelve a convertirlo en *string* \n",
    "\n",
    "6️⃣ Con el *string* obtenido en el paso anterior: \n",
    "\n",
    "    - Esta la palabra \"el\" en el *string* \n",
    "\n",
    "    - Reemplaza \"Hoy\" por nada\n",
    "\n",
    "    - El ejercicio anterior nos ha dejado espacios al inicio del string, eliminalos\n"
   ]
  },
  {
   "cell_type": "code",
   "execution_count": 51,
   "metadata": {},
   "outputs": [
    {
     "name": "stdout",
     "output_type": "stream",
     "text": [
      " HOY ESTAMOS EN UNA CLASE DE REPASO,\n",
      "EL OBJETIVO ES INTENTAR SOLUCIONAR TODAS VUESTRAS DUDAS,\n",
      "PREGUNTAD TODO LO QUE QUERÁIS\n",
      "---------\n",
      " hoy estamos en una clase de repaso,\n",
      "el objetivo es intentar solucionar todas vuestras dudas,\n",
      "preguntad todo lo que queráis\n",
      "---------\n",
      " Hoy Estamos En Una Clase De Repaso,\n",
      "El Objetivo Es Intentar Solucionar Todas Vuestras Dudas,\n",
      "Preguntad Todo Lo Que Queráis\n",
      "---------\n",
      "['Hoy', 'estamos', 'en', 'una', 'clase', 'de', 'repaso,', 'el', 'objetivo', 'es', 'intentar', 'solucionar', 'todas', 'vuestras', 'dudas,', 'preguntad', 'todo', 'lo', 'que', 'queráis']\n",
      "---------\n",
      "['Hoy', 'estamos', 'en', 'una', 'clase']\n",
      "---------\n",
      "Hoy estamos en una clase\n",
      "---------\n",
      "la palabra 'el' no esta en el string.\n",
      "---------\n",
      "Nada estamos en una clase\n",
      "---------\n",
      "Nada estamos en una clase\n",
      "---------\n"
     ]
    }
   ],
   "source": [
    "string =\"\"\" Hoy estamos en una clase de repaso,\n",
    "el objetivo es intentar solucionar todas vuestras dudas,\n",
    "preguntad todo lo que queráis\"\"\"\n",
    "\n",
    "#primero\n",
    "mayusculas= string.upper()\n",
    "print(mayusculas)\n",
    "print(\"---------\")\n",
    "\n",
    "minisculas = mayusculas.lower()\n",
    "print (minisculas)\n",
    "print(\"---------\")\n",
    "\n",
    "# segundo: poner cada palabra con la primera letra en mayúsculas\n",
    "primera_mayuscula = string.title()\n",
    "print(primera_mayuscula)\n",
    "print(\"---------\")\n",
    "\n",
    "# tercero: separo por espacios el string, se van a separar por comas.\n",
    "texto_lista = string.split()\n",
    "print(texto_lista)\n",
    "print(\"---------\")\n",
    "\n",
    "# cuarto: \n",
    "texto_lista_corta = texto_lista[:5]\n",
    "print(texto_lista_corta)\n",
    "print(\"---------\")\n",
    "\n",
    "# quinto: he puesto un espacio entre las comillas,\n",
    "#  para que no aparezcan las palabras seguidas del tiron\n",
    "string_corta = ' '.join(texto_lista_corta)\n",
    "print(string_corta)\n",
    "print(\"---------\")\n",
    "string_corta\n",
    "\n",
    "# sexto. 6.1\n",
    "if 'el' in string_corta:\n",
    "    print(\"la palara 'el' esta presente en el string.\")\n",
    "else:\n",
    "    print(\"la palabra 'el' no esta en el string.\")\n",
    "    print(\"---------\")  \n",
    "\n",
    "# sexto. 6.2\n",
    "string3 = string_corta.replace('Hoy','Nada')\n",
    "print(string3)\n",
    "print(\"---------\")\n",
    "\n",
    "# sexto. 6.3 uso lstrip para quitar el espacio al inicio del string, aunque ya estaba sin un espacio delante.\n",
    "string3_sin_espacios = string3.lstrip()\n",
    "print(string3_sin_espacios)\n",
    "print(\"---------\")\n",
    "\n",
    " "
   ]
  },
  {
   "attachments": {},
   "cell_type": "markdown",
   "metadata": {},
   "source": [
    "**Encuentra el número que no está en la lista**\n",
    "\n",
    "Tenemos una lista desordenada con números positivos de 1 a n. Siempre faltará un sólo número de esta lista aleatoria, ¿cómo identifico cuál falta? Cread un programa para que este código devuelva los resultados deseados:\n",
    "\n",
    "```python\n",
    "lista1 = [3,7,1,2,8,4,5] # nos tiene que devolver 6\n",
    "lista2 = [4,6,1,3,5] #  nos tiene que devolver 2\n",
    "lista3 = [34,35,36,38,39,40] # nos tiene que devolver 37\n",
    "```\n",
    "\n",
    "BONUS: Introduce los resultados obtenidos en un diccionario, indicando que numero falta para cada una de las listas:\n",
    "```python\n",
    "# por ejemplo\n",
    "\n",
    "resultados = {'falta_lista_1': valor_numerico_1, 'falta_lista_2': valor_numerico_2, 'falta_lista_3': valor_numerico_3}\n",
    "```"
   ]
  },
  {
   "cell_type": "code",
   "execution_count": 48,
   "metadata": {},
   "outputs": [
    {
     "name": "stdout",
     "output_type": "stream",
     "text": [
      "6\n"
     ]
    }
   ],
   "source": [
    "lista1 = [3,7,1,2,8,4,5]\n",
    "lista2 = [4,6,1,3,5] \n",
    "lista3 = [34,35,36,38,39,40]\n",
    "\n",
    "#voy a usar el metodo while porque es lo menos lioso que he encontrado y es asi como lo entiendo\n",
    "\n",
    "numero_faltante = 1\n",
    "while numero_faltante in lista1:\n",
    "    numero_faltante += 1\n",
    "print(numero_faltante)\n"
   ]
  },
  {
   "cell_type": "code",
   "execution_count": 45,
   "metadata": {},
   "outputs": [
    {
     "name": "stdout",
     "output_type": "stream",
     "text": [
      "2\n",
      "\n"
     ]
    }
   ],
   "source": [
    "# lista2\n",
    "numero_faltante2 = 1\n",
    "while numero_faltante2 in lista2:\n",
    "    numero_faltante2 += 1\n",
    "    print(numero_faltante2)\n",
    "   \n"
   ]
  },
  {
   "cell_type": "code",
   "execution_count": 50,
   "metadata": {},
   "outputs": [
    {
     "name": "stdout",
     "output_type": "stream",
     "text": [
      "37\n"
     ]
    }
   ],
   "source": [
    "# lista3, aqui he arrancado en el número menor de la lista 3\n",
    "numero_faltante3 = 34\n",
    "while numero_faltante3 in lista3:\n",
    "    numero_faltante3 += 1\n",
    "\n",
    "print(numero_faltante3)\n"
   ]
  },
  {
   "cell_type": "code",
   "execution_count": null,
   "metadata": {},
   "outputs": [],
   "source": [
    "# intentando el Bonus diccionario.\n",
    "resultados ="
   ]
  },
  {
   "attachments": {},
   "cell_type": "markdown",
   "metadata": {},
   "source": [
    "**Mover los ceros a la izquierda**\n",
    "\n",
    "Nos dan un *string* con números aleatorios. Algunos de ellos son 0. Encuentra todos los ceros y ponlos al principio de la lista, manteniendo el orden de los demás números.\n",
    "\n",
    "Ejemplo:\n",
    "\n",
    "```python\n",
    "A = [1,10,88,0,59,63,0,20,0]\n",
    "\n",
    "# tiene que devolver\n",
    "[0, 0, 0, 1, 10, 88, 59, 63, 20]\n",
    "```"
   ]
  },
  {
   "cell_type": "code",
   "execution_count": 3,
   "metadata": {},
   "outputs": [
    {
     "name": "stdout",
     "output_type": "stream",
     "text": [
      "[0, 0, 0, 1, 10, 88, 59, 63, 20]\n"
     ]
    }
   ],
   "source": [
    "A=[1,10,88,0,59,63,0,20,0]\n",
    "A_0 =[]\n",
    "A_numeros =[]\n",
    "\n",
    "#tengo dos listas vacias, una con  ceros,\n",
    "# y la otra con los numeros diferentes a cero de la lista A\n",
    "\n",
    "for numeros in A:\n",
    "    if numeros == 0:\n",
    "        A_0.append(numeros)\n",
    "    else:\n",
    "        A_numeros.append(numeros)\n",
    "\n",
    "A = A_0 + A_numeros\n",
    "print(A)\n"
   ]
  },
  {
   "attachments": {},
   "cell_type": "markdown",
   "metadata": {},
   "source": [
    "**Invertir palabras de una frase**\n",
    "\n",
    "Nos dan una frase en que quieren que las letras de cada palabra acaben teniendo el orden invertido, manteniendo el orden de las palabras.\n",
    "\n",
    "```python\n",
    "frase = 'Hola Ada'\n",
    "print(frase) # nos daría 'aloH adA'\n",
    "```"
   ]
  },
  {
   "cell_type": "code",
   "execution_count": 8,
   "metadata": {},
   "outputs": [
    {
     "name": "stdout",
     "output_type": "stream",
     "text": [
      "['Hola', 'Ada']\n",
      "------------------\n",
      "['aloH']\n",
      "['aloH', 'adA']\n",
      "aloH adA\n"
     ]
    }
   ],
   "source": [
    "# primero separa las palabras con split. Hago una lista vacia. he intentado con el reverse,\n",
    "# pero solo me cambia el orden,\n",
    "# utilizo el for para recorrer las letras y le digo con un get que me devuelva las letras\n",
    "# por el final empezando por el ultimo elemento que esta en la posicion -1.\n",
    "# utilizo el join para volver a juntar las letras\n",
    "\n",
    "frase = \"Hola Ada\"\n",
    "palabras_invertidas = []\n",
    "\n",
    "palabras = frase.split()\n",
    "print(palabras)\n",
    "print('------------------')\n",
    "\n",
    "for palab in palabras:\n",
    "    palabras_invertidas.append(palab[::-1])\n",
    "    print(palabras_invertidas)\n",
    "\n",
    "frase_invertida = \" \".join(palabras_invertidas)\n",
    "print(frase_invertida)"
   ]
  },
  {
   "attachments": {},
   "cell_type": "markdown",
   "metadata": {},
   "source": [
    "###  ¿Es un DNI valido?\n",
    "\n",
    "Los DNI españoles pueden ser:\n",
    "\n",
    "- NIF (Numero de Identificación Fiscal) - 8 numeros y una letra, o\n",
    "- NIE (Numero de Identificación de Extranjeros) - 1 letra, 7 numeros y 1 letra."
   ]
  },
  {
   "cell_type": "code",
   "execution_count": 9,
   "metadata": {},
   "outputs": [],
   "source": [
    "lista_dni = [\"X-1234567-Z\", \"X-1234567\", \"12345678-M\", \"1234567-T\", \"12345677\"] "
   ]
  },
  {
   "cell_type": "code",
   "execution_count": 12,
   "metadata": {},
   "outputs": [
    {
     "name": "stdout",
     "output_type": "stream",
     "text": [
      "['12345678-M', '1234567-T', '12345677']\n",
      "['X-1234567-Z', 'X-1234567']\n"
     ]
    }
   ],
   "source": [
    "dnis_numeros = []\n",
    "nies_letras = []\n",
    "\n",
    "#voy a buscar por el indice para diferenciar si empieza por número y saber si es dni.\n",
    "# he encontrado una isalpha que me indica si el primer caracter es una letra,\n",
    "# y así saber si es NIE.\n",
    "\n",
    "for documento in lista_dni:\n",
    "    if documento[0].isalpha():\n",
    "        nies_letras.append(documento)\n",
    "    else:\n",
    "        dnis_numeros.append(documento)\n",
    "\n",
    "print(dnis_numeros)\n",
    "print(nies_letras)\n"
   ]
  },
  {
   "attachments": {},
   "cell_type": "markdown",
   "metadata": {},
   "source": [
    "**BONUS: Encuentra los k números más cerca a X**\n",
    "\n",
    "\n",
    "Haz una programa que compare los contenidos de una lista a un número dado X. Queremos que nos devuelva los k números que son más parecidos al número dado.\n",
    "\n",
    "Ejemplo:\n",
    "```python\n",
    "L = [4, 19, -5, 100, 53, 43, 74, -83, 13.5, 26]\n",
    "# Dados los siguientes valores \n",
    "x =30\n",
    "k = 3 # el número de números que tendremos que buscar en la lista que se parecen a 30 \n",
    "# El output debería ser igual a [26, 19, 43]\n",
    "```"
   ]
  },
  {
   "cell_type": "code",
   "execution_count": null,
   "metadata": {},
   "outputs": [],
   "source": [
    "# aqui va mi intento con el sorted....ME RINDO\n",
    "x = 30\n",
    "k = 3\n",
    "L = [4,19,-5,100,53,43,74,-83,13.5,26]\n",
    "\n",
    "parecidos_30 = []\n",
    "\n",
    "for numero in L:\n",
    "    if numero\n"
   ]
  }
 ],
 "metadata": {
  "kernelspec": {
   "display_name": "Python 3",
   "language": "python",
   "name": "python3"
  },
  "language_info": {
   "codemirror_mode": {
    "name": "ipython",
    "version": 3
   },
   "file_extension": ".py",
   "mimetype": "text/x-python",
   "name": "python",
   "nbconvert_exporter": "python",
   "pygments_lexer": "ipython3",
   "version": "3.9.7"
  },
  "orig_nbformat": 4,
  "vscode": {
   "interpreter": {
    "hash": "31f2aee4e71d21fbe5cf8b01ff0e069b9275f58929596ceb00d14d90e3e16cd6"
   }
  }
 },
 "nbformat": 4,
 "nbformat_minor": 2
}
